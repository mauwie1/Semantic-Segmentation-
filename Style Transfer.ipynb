{
  "nbformat": 4,
  "nbformat_minor": 0,
  "metadata": {
    "colab": {
      "name": "Assignment_2_Style_Transfer(1).ipynb",
      "version": "0.3.2",
      "provenance": [],
      "private_outputs": true,
      "collapsed_sections": []
    },
    "kernelspec": {
      "name": "python3",
      "display_name": "Python 3"
    },
    "accelerator": "GPU"
  },
  "cells": [
    {
      "metadata": {
        "id": "yRHuDur6ToGo",
        "colab_type": "text"
      },
      "cell_type": "markdown",
      "source": [
        "**Imports/Setup**"
      ]
    },
    {
      "metadata": {
        "id": "yEJlBZx9aRIz",
        "colab_type": "code",
        "colab": {}
      },
      "cell_type": "code",
      "source": [
        "import os\n",
        "img_dir = '/tmp/nst'\n",
        "if not os.path.exists(img_dir):\n",
        "    os.makedirs(img_dir)\n",
        "    \n",
        "#Content Images - Turtle buildings, and then two portraits of people (to test something with the van goch self portrait style)\n",
        "!wget --quiet -P /tmp/nst/ https://upload.wikimedia.org/wikipedia/commons/d/d7/Green_Sea_Turtle_grazing_seagrass.jpg\n",
        "!wget --quiet -P /tmp/nst/ https://upload.wikimedia.org/wikipedia/commons/0/00/Tuebingen_Neckarfront.jpg\n",
        "!wget --quiet -P /tmp/nst/ https://upload.wikimedia.org/wikipedia/commons/9/9c/YeisonJimenez2.jpg\n",
        "!wget --quiet -P /tmp/nst/ https://upload.wikimedia.org/wikipedia/commons/7/7d/Max_Verstappen_2017_Malaysia_3_%28cropped%29.jpg\n",
        "!wget --quiet -P /tmp/nst/ https://upload.wikimedia.org/wikipedia/commons/a/a3/Red_Panda_%2824774549282%29.jpg\n",
        "  \n",
        "#Style Images\n",
        "!wget --quiet -P /tmp/nst/ https://upload.wikimedia.org/wikipedia/commons/0/0a/The_Great_Wave_off_Kanagawa.jpg\n",
        "!wget --quiet -P /tmp/nst/ https://upload.wikimedia.org/wikipedia/commons/b/b4/Vassily_Kandinsky%2C_1913_-_Composition_7.jpg\n",
        "!wget --quiet -P /tmp/nst/ https://upload.wikimedia.org/wikipedia/commons/6/68/Pillars_of_creation_2014_HST_WFC3-UVIS_full-res_denoised.jpg\n",
        "!wget --quiet -P /tmp/nst/ https://upload.wikimedia.org/wikipedia/commons/thumb/e/ea/Van_Gogh_-_Starry_Night_-_Google_Art_Project.jpg/1024px-Van_Gogh_-_Starry_Night_-_Google_Art_Project.jpg\n",
        "!wget --quiet -P /tmp/nst/ https://upload.wikimedia.org/wikipedia/commons/b/b2/Vincent_van_Gogh_-_Self-Portrait_-_Google_Art_Project.jpg \n"
      ],
      "execution_count": 0,
      "outputs": []
    },
    {
      "metadata": {
        "id": "d8TZqrQguCUE",
        "colab_type": "code",
        "colab": {}
      },
      "cell_type": "code",
      "source": [
        "import pickle\n",
        "import cv2\n",
        "import math\n",
        "import numpy as np\n",
        "import PIL\n",
        "import os\n",
        "\n",
        "def mergeImages(mask_dict, image_list):\n",
        "    original_img = image_list[0]\n",
        "    newimg = np.zeros(shape=(len(original_img), len(original_img[0]), 3), dtype=np.uint8)\n",
        "    no_mask_vals = mask_dict[\"noMask\"]\n",
        "    print(len(mask_dict.keys()))\n",
        "    if len(image_list[1:])==len(mask_dict.keys())-1:\n",
        "        c=1\n",
        "        for pix in no_mask_vals:\n",
        "            row=math.floor(pix/len(original_img[0]))\n",
        "            pos = pix%len(original_img[0])\n",
        "            newimg[row][pos] = original_img[row][pos]\n",
        "        while c<len(mask_dict.keys()):\n",
        "            mask_vals = mask_dict[\"Mask \" + str(c)]\n",
        "            for pix in mask_vals:\n",
        "                row=math.floor(pix/len(original_img[0]))\n",
        "                pos = pix%len(original_img[0])\n",
        "                try:\n",
        "                    newimg[row][pos] = image_list[c][row][pos]\n",
        "                except:\n",
        "                    pass\n",
        "            c+=1\n",
        "        img = PIL.Image.fromarray(newimg)\n",
        "        return img\n",
        "    else:\n",
        "        print(\"amount of input images not equal to mask amount\")\n",
        "        \n",
        "def getWhiteImg(img):\n",
        "    newimg = np.full(shape=(len(img), len(img[0]), 3), dtype=np.uint8, fill_value=255)\n",
        "    return img\n"
      ],
      "execution_count": 0,
      "outputs": []
    },
    {
      "metadata": {
        "id": "ndu28HmOX0QY",
        "colab_type": "code",
        "colab": {}
      },
      "cell_type": "code",
      "source": [
        "import matplotlib.pyplot as plt\n",
        "import matplotlib as mpl\n",
        "mpl.rcParams['figure.figsize'] = (10,10)\n",
        "mpl.rcParams['axes.grid'] = False\n",
        "\n",
        "import numpy as np\n",
        "from PIL import Image\n",
        "import time\n",
        "import functools"
      ],
      "execution_count": 0,
      "outputs": []
    },
    {
      "metadata": {
        "id": "mjQ6vOyAX0cc",
        "colab_type": "code",
        "colab": {}
      },
      "cell_type": "code",
      "source": [
        "import tensorflow as tf\n",
        "import tensorflow.contrib.eager as tfe\n",
        "\n",
        "from tensorflow.python.keras.preprocessing import image as kp_image\n",
        "from tensorflow.python.keras import models \n",
        "from tensorflow.python.keras import losses\n",
        "from tensorflow.python.keras import layers\n",
        "from tensorflow.python.keras import backend as K"
      ],
      "execution_count": 0,
      "outputs": []
    },
    {
      "metadata": {
        "id": "3PwGPLuUX0kq",
        "colab_type": "code",
        "colab": {}
      },
      "cell_type": "code",
      "source": [
        "tf.enable_eager_execution()\n",
        "print(\"Eager execution: {}\".format(tf.executing_eagerly()))"
      ],
      "execution_count": 0,
      "outputs": []
    },
    {
      "metadata": {
        "colab_type": "text",
        "id": "t4uAznIP39RW"
      },
      "cell_type": "markdown",
      "source": [
        ""
      ]
    },
    {
      "metadata": {
        "id": "iJ5sefuhTkWL",
        "colab_type": "text"
      },
      "cell_type": "markdown",
      "source": [
        "**Input Visualisation**"
      ]
    },
    {
      "metadata": {
        "id": "rva7hNKMTr8Q",
        "colab_type": "code",
        "colab": {}
      },
      "cell_type": "code",
      "source": [
        "def load_img(path_to_img):\n",
        "  print( path_to_img)\n",
        "  img = PIL.Image.open(path_to_img)\n",
        "  \n",
        "  img = kp_image.img_to_array(img)\n",
        "  \n",
        "  # We need to broadcast the image array such that it has a batch dimension \n",
        "  img = np.expand_dims(img, axis=0)\n",
        "  return img"
      ],
      "execution_count": 0,
      "outputs": []
    },
    {
      "metadata": {
        "id": "o2Sgn9bqTsHz",
        "colab_type": "code",
        "colab": {}
      },
      "cell_type": "code",
      "source": [
        "def imshow(img, title=None):\n",
        "  # Remove the batch dimension\n",
        "  out = np.squeeze(img, axis=0)\n",
        "  # Normalize for display \n",
        "  out = out.astype('uint8')\n",
        "  plt.imshow(out)\n",
        "  if title is not None:\n",
        "    plt.title(title)\n",
        "  plt.imshow(out)"
      ],
      "execution_count": 0,
      "outputs": []
    },
    {
      "metadata": {
        "id": "Xhw2DCi3TgZO",
        "colab_type": "text"
      },
      "cell_type": "markdown",
      "source": [
        "**Image Preprocessing**"
      ]
    },
    {
      "metadata": {
        "id": "OAmEaiEjReI7",
        "colab_type": "code",
        "colab": {}
      },
      "cell_type": "code",
      "source": [
        "def load_and_process_img(path_to_img):\n",
        "  img = load_img(path_to_img)\n",
        "  img = tf.keras.applications.vgg19.preprocess_input(img)\n",
        "  return img"
      ],
      "execution_count": 0,
      "outputs": []
    },
    {
      "metadata": {
        "id": "13jJ-VCgRzYd",
        "colab_type": "code",
        "colab": {}
      },
      "cell_type": "code",
      "source": [
        "def deprocess_img(processed_img):\n",
        "  x = processed_img.copy()\n",
        "  if len(x.shape) == 4:\n",
        "    x = np.squeeze(x, 0)\n",
        "  assert len(x.shape) == 3, (\"Input to deprocess image must be an image of \"\n",
        "                             \"dimension [1, height, width, channel] or [height, width, channel]\")\n",
        "  if len(x.shape) != 3:\n",
        "    raise ValueError(\"Invalid input to deprocessing image\")\n",
        "  \n",
        "  # perform the inverse of the preprocessiing step\n",
        "  x[:, :, 0] += 103.939\n",
        "  x[:, :, 1] += 116.779\n",
        "  x[:, :, 2] += 123.68\n",
        "  x = x[:, :, ::-1]\n",
        "\n",
        "  x = np.clip(x, 0, 255).astype('uint8')\n",
        "  return x"
      ],
      "execution_count": 0,
      "outputs": []
    },
    {
      "metadata": {
        "id": "gz3LRX5G9i0s",
        "colab_type": "text"
      },
      "cell_type": "markdown",
      "source": [
        "**Model Creation**"
      ]
    },
    {
      "metadata": {
        "id": "JfqDJmeyRot2",
        "colab_type": "code",
        "colab": {}
      },
      "cell_type": "code",
      "source": [
        "# Content layer where will pull our feature maps\n",
        "content_layers = ['block5_conv2'] \n",
        "\n",
        "# Style layer we are interested in\n",
        "style_layers = ['block1_conv1',\n",
        "                'block2_conv1',\n",
        "                'block3_conv1', \n",
        "                'block4_conv1', \n",
        "                'block5_conv1'\n",
        "               ]\n",
        "\n",
        "num_content_layers = len(content_layers)\n",
        "num_style_layers = len(style_layers)"
      ],
      "execution_count": 0,
      "outputs": []
    },
    {
      "metadata": {
        "id": "1nLCH1IM4blr",
        "colab_type": "code",
        "colab": {}
      },
      "cell_type": "code",
      "source": [
        "def get_model():\n",
        "  \"\"\" Creates our model with access to intermediate layers. \n",
        "  \n",
        "  This function will load the VGG19 model and access the intermediate layers. \n",
        "  These layers will then be used to create a new model that will take input image\n",
        "  and return the outputs from these intermediate layers from the VGG model. \n",
        "  \n",
        "  Returns:\n",
        "    returns a keras model that takes image inputs and outputs the style and \n",
        "      content intermediate layers. \n",
        "  \"\"\"\n",
        "  # Load our model. We load pretrained VGG, trained on imagenet data\n",
        "  vgg = tf.keras.applications.vgg19.VGG19(include_top=False, weights='imagenet')\n",
        "  vgg.trainable = False\n",
        "  # Get output layers corresponding to style and content layers \n",
        "  style_outputs = [vgg.get_layer(name).output for name in style_layers]\n",
        "  content_outputs = [vgg.get_layer(name).output for name in content_layers]\n",
        "  model_outputs = style_outputs + content_outputs\n",
        "  # Build model \n",
        "  return models.Model(vgg.input, model_outputs)"
      ],
      "execution_count": 0,
      "outputs": []
    },
    {
      "metadata": {
        "id": "Pl4CchzKJtt0",
        "colab_type": "text"
      },
      "cell_type": "markdown",
      "source": [
        "**Compute Content Loss**"
      ]
    },
    {
      "metadata": {
        "id": "UbtVu9h54cW2",
        "colab_type": "code",
        "colab": {}
      },
      "cell_type": "code",
      "source": [
        "def get_content_loss(base_content, target):\n",
        "  return tf.reduce_mean(tf.square(base_content - target))"
      ],
      "execution_count": 0,
      "outputs": []
    },
    {
      "metadata": {
        "id": "XXmfPGSAMkgf",
        "colab_type": "text"
      },
      "cell_type": "markdown",
      "source": [
        "**Compute Style Loss**"
      ]
    },
    {
      "metadata": {
        "id": "m2sjIpJQ4c4D",
        "colab_type": "code",
        "colab": {}
      },
      "cell_type": "code",
      "source": [
        "def gram_matrix(input_tensor):\n",
        "  # We make the image channels first \n",
        "  channels = int(input_tensor.shape[-1])\n",
        "  a = tf.reshape(input_tensor, [-1, channels])\n",
        "  n = tf.shape(a)[0]\n",
        "  gram = tf.matmul(a, a, transpose_a=True)\n",
        "  return gram / tf.cast(n, tf.float32)\n",
        "\n",
        "def get_style_loss(base_style, gram_target):\n",
        "  \"\"\"Expects two images of dimension h, w, c\"\"\"\n",
        "  # height, width, num filters of each layer\n",
        "  # We scale the loss at a given layer by the size of the feature map and the number of filters\n",
        "  height, width, channels = base_style.get_shape().as_list()\n",
        "  gram_style = gram_matrix(base_style)\n",
        "  \n",
        "  return tf.reduce_mean(tf.square(gram_style - gram_target))# / (4. * (channels ** 2) * (width * height) ** 2)"
      ],
      "execution_count": 0,
      "outputs": []
    },
    {
      "metadata": {
        "id": "Cz80SJfvMxo9",
        "colab_type": "text"
      },
      "cell_type": "markdown",
      "source": [
        "**Run Gradient Descent**"
      ]
    },
    {
      "metadata": {
        "id": "Qcwwb5aT4ddD",
        "colab_type": "code",
        "colab": {}
      },
      "cell_type": "code",
      "source": [
        "def get_feature_representations(model, content_path, style_path):\n",
        "  \"\"\"Helper function to compute our content and style feature representations.\n",
        "\n",
        "  This function will simply load and preprocess both the content and style \n",
        "  images from their path. Then it will feed them through the network to obtain\n",
        "  the outputs of the intermediate layers. \n",
        "  \n",
        "  Arguments:\n",
        "    model: The model that we are using.\n",
        "    content_path: The path to the content image.\n",
        "    style_path: The path to the style image\n",
        "    \n",
        "  Returns:\n",
        "    returns the style features and the content features. \n",
        "  \"\"\"\n",
        "  # Load our images in \n",
        "  content_image = load_and_process_img(content_path)\n",
        "  style_image = load_and_process_img(style_path)\n",
        "  \n",
        "  # batch compute content and style features\n",
        "  style_outputs = model(style_image)\n",
        "  content_outputs = model(content_image)\n",
        "  \n",
        "  \n",
        "  # Get the style and content feature representations from our model  \n",
        "  style_features = [style_layer[0] for style_layer in style_outputs[:num_style_layers]]\n",
        "  content_features = [content_layer[0] for content_layer in content_outputs[num_style_layers:]]\n",
        "  return style_features, content_features"
      ],
      "execution_count": 0,
      "outputs": []
    },
    {
      "metadata": {
        "id": "-dFykFQ7RKjy",
        "colab_type": "text"
      },
      "cell_type": "markdown",
      "source": [
        "**Compute Loss and Gradients**"
      ]
    },
    {
      "metadata": {
        "id": "1el2cA7q4eSx",
        "colab_type": "code",
        "colab": {}
      },
      "cell_type": "code",
      "source": [
        "def compute_loss(model, loss_weights, init_image, gram_style_features, content_features):\n",
        "  \"\"\"This function will compute the loss total loss.\n",
        "  \n",
        "  Arguments:\n",
        "    model: The model that will give us access to the intermediate layers\n",
        "    loss_weights: The weights of each contribution of each loss function. \n",
        "      (style weight, content weight, and total variation weight)\n",
        "    init_image: Our initial base image. This image is what we are updating with \n",
        "      our optimization process. We apply the gradients wrt the loss we are \n",
        "      calculating to this image.\n",
        "    gram_style_features: Precomputed gram matrices corresponding to the \n",
        "      defined style layers of interest.\n",
        "    content_features: Precomputed outputs from defined content layers of \n",
        "      interest.\n",
        "      \n",
        "  Returns:\n",
        "    returns the total loss, style loss, content loss, and total variational loss\n",
        "  \"\"\"\n",
        "  style_weight, content_weight = loss_weights\n",
        "  \n",
        "  # Feed our init image through our model. This will give us the content and \n",
        "  # style representations at our desired layers. Since we're using eager\n",
        "  # our model is callable just like any other function!\n",
        "  model_outputs = model(init_image)\n",
        "  \n",
        "  style_output_features = model_outputs[:num_style_layers]\n",
        "  content_output_features = model_outputs[num_style_layers:]\n",
        "  \n",
        "  style_score = 0\n",
        "  content_score = 0\n",
        "\n",
        "  # Accumulate style losses from all layers\n",
        "  # Here, we equally weight each contribution of each loss layer\n",
        "  weight_per_style_layer = 1.0 / float(num_style_layers)\n",
        "  for target_style, comb_style in zip(gram_style_features, style_output_features):\n",
        "    style_score += weight_per_style_layer * get_style_loss(comb_style[0], target_style)\n",
        "    \n",
        "  # Accumulate content losses from all layers \n",
        "  weight_per_content_layer = 1.0 / float(num_content_layers)\n",
        "  for target_content, comb_content in zip(content_features, content_output_features):\n",
        "    content_score += weight_per_content_layer* get_content_loss(comb_content[0], target_content)\n",
        "  \n",
        "  style_score *= style_weight\n",
        "  content_score *= content_weight\n",
        "\n",
        "  # Get total loss\n",
        "  loss = style_score + content_score \n",
        "  return loss, style_score, content_score"
      ],
      "execution_count": 0,
      "outputs": []
    },
    {
      "metadata": {
        "id": "OHVJzsSG4eOw",
        "colab_type": "code",
        "colab": {}
      },
      "cell_type": "code",
      "source": [
        "def compute_grads(cfg):\n",
        "  with tf.GradientTape() as tape: \n",
        "    all_loss = compute_loss(**cfg)\n",
        "  # Compute gradients wrt input image\n",
        "  total_loss = all_loss[0]\n",
        "  return tape.gradient(total_loss, cfg['init_image']), all_loss"
      ],
      "execution_count": 0,
      "outputs": []
    },
    {
      "metadata": {
        "id": "gaZ6tCR071v0",
        "colab_type": "text"
      },
      "cell_type": "markdown",
      "source": [
        "**Optimization Loop**"
      ]
    },
    {
      "metadata": {
        "id": "C9XJI-764avr",
        "colab_type": "code",
        "colab": {}
      },
      "cell_type": "code",
      "source": [
        "import IPython.display\n",
        "\n",
        "def run_style_transfer(content_path, \n",
        "                       style_path,\n",
        "                       num_iterations=1000,\n",
        "                       content_weight=1e3, \n",
        "                       style_weight=1e-2): \n",
        "  # We don't need to (or want to) train any layers of our model, so we set their\n",
        "  # trainable to false. \n",
        "  model = get_model() \n",
        "  for layer in model.layers:\n",
        "    layer.trainable = False\n",
        "  \n",
        "  # Get the style and content feature representations (from our specified intermediate layers) \n",
        "  style_features, content_features = get_feature_representations(model, content_path, style_path)\n",
        "  gram_style_features = [gram_matrix(style_feature) for style_feature in style_features]\n",
        "  \n",
        "  # Set initial image\n",
        "  init_image = load_and_process_img(content_path)\n",
        "  init_image = tfe.Variable(init_image, dtype=tf.float32)\n",
        "  # Create our optimizer\n",
        "  opt = tf.train.AdamOptimizer(learning_rate=5, beta1=0.99, epsilon=1e-1)\n",
        "\n",
        "  # For displaying intermediate images \n",
        "  iter_count = 1\n",
        "  \n",
        "  # Store our best result\n",
        "  best_loss, best_img = float('inf'), None\n",
        "  \n",
        "  # Create a nice config \n",
        "  loss_weights = (style_weight, content_weight)\n",
        "  cfg = {\n",
        "      'model': model,\n",
        "      'loss_weights': loss_weights,\n",
        "      'init_image': init_image,\n",
        "      'gram_style_features': gram_style_features,\n",
        "      'content_features': content_features\n",
        "  }\n",
        "    \n",
        "  # For displaying\n",
        "  num_rows = 2\n",
        "  num_cols = 5\n",
        "  display_interval = num_iterations/(num_rows*num_cols)\n",
        "  start_time = time.time()\n",
        "  global_start = time.time()\n",
        "  \n",
        "  norm_means = np.array([103.939, 116.779, 123.68])\n",
        "  min_vals = -norm_means\n",
        "  max_vals = 255 - norm_means   \n",
        "  \n",
        "  imgs = []\n",
        "  for i in range(num_iterations):\n",
        "    grads, all_loss = compute_grads(cfg)\n",
        "    loss, style_score, content_score = all_loss\n",
        "    opt.apply_gradients([(grads, init_image)])\n",
        "    clipped = tf.clip_by_value(init_image, min_vals, max_vals)\n",
        "    init_image.assign(clipped)\n",
        "    end_time = time.time() \n",
        "    \n",
        "    if loss < best_loss:\n",
        "      # Update best loss and best image from total loss. \n",
        "      best_loss = loss\n",
        "      best_img = deprocess_img(init_image.numpy())\n",
        "\n",
        "    if i % display_interval== 0:\n",
        "      start_time = time.time()\n",
        "      \n",
        "      # Use the .numpy() method to get the concrete numpy array\n",
        "      plot_img = init_image.numpy()\n",
        "      plot_img = deprocess_img(plot_img)\n",
        "      imgs.append(plot_img)\n",
        "      IPython.display.clear_output(wait=True)\n",
        "      IPython.display.display_png(PIL.Image.fromarray(plot_img))\n",
        "      print('Iteration: {}'.format(i))        \n",
        "      print('Total loss: {:.4e}, ' \n",
        "            'style loss: {:.4e}, '\n",
        "            'content loss: {:.4e}, '\n",
        "            'time: {:.4f}s'.format(loss, style_score, content_score, time.time() - start_time))\n",
        "  print('Total time: {:.4f}s'.format(time.time() - global_start))\n",
        "#   IPython.display.clear_output(wait=True)\n",
        "  plt.figure(figsize=(14,4))\n",
        "  for i,img in enumerate(imgs):\n",
        "      plt.subplot(num_rows,num_cols,i+1)\n",
        "      plt.imshow(img)\n",
        "      plt.xticks([])\n",
        "      plt.yticks([])\n",
        "      \n",
        "  return best_img, best_loss "
      ],
      "execution_count": 0,
      "outputs": []
    },
    {
      "metadata": {
        "id": "TbVOuSUaiPut",
        "colab_type": "text"
      },
      "cell_type": "markdown",
      "source": [
        "**Visualize Output**"
      ]
    },
    {
      "metadata": {
        "id": "bISf1o4siOlR",
        "colab_type": "code",
        "colab": {}
      },
      "cell_type": "code",
      "source": [
        "def show_results(best_img, content_path, style_path, show_large_final=True):\n",
        "  plt.figure(figsize=(10, 5))\n",
        "  content = load_img(content_path) \n",
        "  style = load_img(style_path)\n",
        "\n",
        "  plt.subplot(1, 2, 1)\n",
        "  imshow(content, 'Content Image')\n",
        "\n",
        "  plt.subplot(1, 2, 2)\n",
        "  imshow(style, 'Style Image')\n",
        "\n",
        "  if show_large_final: \n",
        "    plt.figure(figsize=(10, 10))\n",
        "\n",
        "    plt.imshow(best_img)\n",
        "    plt.title('Output Image')\n",
        "    plt.show()"
      ],
      "execution_count": 0,
      "outputs": []
    },
    {
      "metadata": {
        "id": "AC3mtEQd3-E8",
        "colab_type": "text"
      },
      "cell_type": "markdown",
      "source": [
        "**Run Style Transfer**"
      ]
    },
    {
      "metadata": {
        "id": "WMLCyVT-_j59",
        "colab_type": "text"
      },
      "cell_type": "markdown",
      "source": [
        "Upload files manually\n"
      ]
    },
    {
      "metadata": {
        "id": "2uZeFsdi_mvI",
        "colab_type": "code",
        "colab": {}
      },
      "cell_type": "code",
      "source": [
        "from google.colab import files\n",
        "from IPython.display import Image\n",
        "from IPython.display import display\n",
        "\n",
        "\n",
        "def upload_files():\n",
        "  from google.colab import files\n",
        "  uploaded = files.upload()\n",
        "  for k, v in uploaded.items():\n",
        "    open(k, 'wb').write(v)\n",
        "  return list(uploaded.keys())\n",
        "\n",
        "# upload manually files and save them\n",
        "upload_files()\n",
        "\n",
        "# for fn in uploaded.keys():\n",
        "#   print('User uploaded file \"{name}\" with length {length} bytes'.format(\n",
        "#       name=fn, length=len(uploaded[fn])))\n"
      ],
      "execution_count": 0,
      "outputs": []
    },
    {
      "metadata": {
        "id": "MUbWEdnLHY9q",
        "colab_type": "text"
      },
      "cell_type": "markdown",
      "source": [
        "Manual creation of uploaded folders while placing in the folders 'images' and 'styles'"
      ]
    },
    {
      "metadata": {
        "id": "kZcmRWBvX0tK",
        "colab_type": "code",
        "colab": {}
      },
      "cell_type": "code",
      "source": [
        "\n",
        "import os \n",
        "\n",
        "#ls /tmp/nst\n",
        "#!rm -rvf * /content/*\n",
        "# !mkdir /content/images\n",
        "# !mkdir /content/styles/\n",
        "#!mv /content/* /content/images\n",
        "# !ls -lah /content/images\n",
        "# !ls -lah /content/styles \n",
        "# !mv /content/*.jpg /content/images/\n",
        "# !mv /content/*.JPG /content/images/\n",
        "# !mv /content/*.jpg /content/styles/\n",
        "!ls -R\n",
        "\n",
        "\n",
        "\n",
        "# exit()\n",
        "# print( \"HERE\")\n",
        "images_path = '/content/'\n",
        "images_path = '/content/'\n",
        "# im1 = 'castle.jpg'\n",
        "# im2 = 'part1.jpg'\n",
        "# im3 = 'part2.jpg'\n",
        "\n",
        "# file_path = os.path.join( images_path, im2 )\n",
        "# print( file_path )\n",
        "# if os.path.exists(file_path) :\n",
        "#   print( 'FILE EXISTS!')\n",
        "\n",
        "\n",
        "# # Set up some global values here\n",
        "# #content_path = '/tmp/nst/Red_Panda_(24774549282).jpg'\n",
        "# content_path = os.path.join( images_path, im1 )\n",
        "# content_path1 = os.path.join( images_path, im2 )\n",
        "# content_path2 = os.path.join( images_path, im3 )\n",
        "# #style_path = '/tmp/nst/nicholasglykosbc0361_wide-bfeab51b09af582210384d09062ff0ed7afa5955.png'\n",
        "# style_path1 = '/tmp/nst/The_Great_Wave_off_Kanagawa.jpg'\n",
        "# #style_path2 = '/tmp/nst/Vassily_Kandinsky,_1913_-_Composition_7.jpg'\n",
        "# style_path2 = '/tmp/nst/1024px-Van_Gogh_-_Starry_Night_-_Google_Art_Project.jpg'\n",
        "\n",
        "\n",
        "\n",
        "\n"
      ],
      "execution_count": 0,
      "outputs": []
    },
    {
      "metadata": {
        "id": "q3tAM7vN3rKw",
        "colab_type": "code",
        "colab": {}
      },
      "cell_type": "code",
      "source": [
        "import cv2\n",
        "#best_transfer, best_loss = run_style_transfer(content_path,style_path)\n",
        "\n",
        "### Starting point of our code for the super fancy segmentation-based style-transfer\n",
        "\n",
        "# Segment content image and fetch all classes/subregions\n",
        "#groups = segment_image( content_path ) \n",
        "\n",
        "# create 2 big subgroups from the segmented regions(effectively creating 2 new images)\n",
        "#image1,image2 = create_segmented_images( content_path, groups )\n",
        "\n",
        "# run style transfer on first content image while showing the progress\n",
        "#res1, loss1 = run_style_transfer(\"content/car.jpg\",\"content/Guernice - Picasso.jpg\", num_iterations = 100 )\n",
        "\n",
        "# run style transfer on second content image while showing the progress\n",
        "#res2, loss2 = run_style_transfer(\"content/car.jpg\",style_path2, num_iterations = 100 )\n",
        "\n",
        "# superimpose the results from the 2 images to get our final result\n",
        "#result_image = superimpose( res1, res2 )\n",
        "\n",
        "# run style transfer on original image twice for comparison\n",
        "content_path=\"/content/pizza.jpg\"\n",
        "#original_img = PIL.Image.open(content_path)\n",
        "mask_dict = pickle.load(open(\"/content/mask_list.txt\", \"rb\"))\n",
        "#box_path = \"/content/box0.jpg\"\n",
        "zero_path = \"/content/zero_mask.jpg\"\n",
        "zero_path2 = \"/content/zero_mask2.jpg\"\n",
        "#zero_path3 = \"/content/zero_mask3.jpg\"\n",
        "style_path1=\"/content/Munch.jpg\"\n",
        "#style_path2=\"/content/Dali.jpg\"\n",
        "#style_path3=\"/content/Picasso.jpg\"\n",
        "styled_image1, loss = run_style_transfer(zero_path, style_path1, num_iterations = 50)\n",
        "#styled_image2, loss = run_style_transfer(content_path, style_path2, num_iterations = 200 )\n",
        "# comprare visually the classical style transfer vs our pproach: styled_image vs result_image\n",
        "\n",
        "\n"
      ],
      "execution_count": 0,
      "outputs": []
    },
    {
      "metadata": {
        "id": "rvzSSP7-4eQO",
        "colab_type": "code",
        "colab": {}
      },
      "cell_type": "code",
      "source": [
        "show_results(styled_image1, zero_path, style_path1)\n",
        "show_results(styled_image2, content_path, style_path2)\n",
        "#show_results(styled_image3, content_path, style_path2)\n",
        "mask_dict = pickle.load(open(\"/content/mask_list.txt\", \"rb\"))\n",
        "bgr= cv2.imread(zero_path2)\n",
        "rgb = cv2.cvtColor(bgr, cv2.COLOR_BGR2RGB)\n",
        "merged_images= mergeImages(mask_dict, [rgb, styled_image1])\n",
        "plt.figure(figsize=(10, 10))\n",
        "plt.imshow(merged_images)\n",
        "#show_results(res1, content_path1, style_path1)\n",
        "#show_results(res2, content_path2, style_path2)"
      ],
      "execution_count": 0,
      "outputs": []
    }
  ]
}